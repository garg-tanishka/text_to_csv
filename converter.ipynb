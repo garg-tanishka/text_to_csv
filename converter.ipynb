{
 "cells": [
  {
   "cell_type": "code",
   "execution_count": 8,
   "id": "7d561e6c",
   "metadata": {},
   "outputs": [],
   "source": [
    "import csv\n",
    "import glob\n",
    "import os\n",
    "\n",
    "directory = \"Input_Files\"\n",
    "output = \"Output_Files\"\n",
    "\n",
    "txt_files = os.path.join(directory, '*.txt')\n",
    "\n",
    "for txt_file in glob.glob(txt_files):\n",
    "    with open(txt_file, \"r\") as input_file:\n",
    "        in_txt = csv.reader(input_file, delimiter=',')\n",
    "        filename = os.path.splitext(os.path.basename(txt_file))[0] + '.csv'\n",
    "\n",
    "        with open(os.path.join(output, filename), 'w') as output_file:\n",
    "            out_csv = csv.writer(output_file)\n",
    "            out_csv.writerows(in_txt)"
   ]
  }
 ],
 "metadata": {
  "kernelspec": {
   "display_name": "Python 3 (ipykernel)",
   "language": "python",
   "name": "python3"
  },
  "language_info": {
   "codemirror_mode": {
    "name": "ipython",
    "version": 3
   },
   "file_extension": ".py",
   "mimetype": "text/x-python",
   "name": "python",
   "nbconvert_exporter": "python",
   "pygments_lexer": "ipython3",
   "version": "3.8.10"
  }
 },
 "nbformat": 4,
 "nbformat_minor": 5
}
